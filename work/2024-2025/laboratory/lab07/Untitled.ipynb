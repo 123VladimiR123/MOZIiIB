{
 "cells": [
  {
   "cell_type": "code",
   "execution_count": 30,
   "id": "ce074327",
   "metadata": {},
   "outputs": [
    {
     "name": "stdout",
     "output_type": "stream",
     "text": [
      "Решений нет\n"
     ]
    }
   ],
   "source": [
    "from random import randint\n",
    "from sympy import mod_inverse\n",
    "\n",
    "def f(x, a, b, p):\n",
    "    if x % 3 == 0:\n",
    "        return (x + 1) % p\n",
    "    elif x % 3 == 1:\n",
    "        return (a * x) % p\n",
    "    else:\n",
    "        return (b * x) % p\n",
    "\n",
    "def pollard(a, b, p):\n",
    "    u, v = randint(0, p - 1), randint(0, p - 1)\n",
    "    c = pow(a, u, p) * pow(b, v, p) % p\n",
    "    d = c\n",
    "    \n",
    "    u1, v1 = u, v\n",
    "    u2, v2 = u, v\n",
    "    \n",
    "    for i in range(100_000_000):\n",
    "        c = f(c, a, b, p)\n",
    "        d = f(c, a, b, p)\n",
    "        \n",
    "        if c % 3 == 0:\n",
    "            u1 = (u1 + 1) % (p - 1)\n",
    "        elif c % 3 == 1:\n",
    "            v1 = (v1 + 1) % (p - 1)\n",
    "            \n",
    "        if d % 3 == 0:\n",
    "            u2 = (u2 + 1) % (p - 1)\n",
    "        elif d % 3 == 1:\n",
    "            v2 = (v2 + 1) % (p - 1)\n",
    "            \n",
    "        if c == d:\n",
    "            num = (u1 - u2) % (p - 1)\n",
    "            den = (v2 - v1) % (p - 1)\n",
    "            \n",
    "            try:\n",
    "                dev_inv = mod_inverse(den, p - 1)\n",
    "                x = (num * den) % (p - 1)\n",
    "                return x\n",
    "            except ValueError:\n",
    "                return \"Решений нет\"\n",
    "            \n",
    "    return \"Решений нет\"\n",
    "\n",
    "print(pollard(10, 64, 107));"
   ]
  },
  {
   "cell_type": "code",
   "execution_count": null,
   "id": "de51bd59",
   "metadata": {},
   "outputs": [],
   "source": []
  }
 ],
 "metadata": {
  "kernelspec": {
   "display_name": "Python 3 (ipykernel)",
   "language": "python",
   "name": "python3"
  },
  "language_info": {
   "codemirror_mode": {
    "name": "ipython",
    "version": 3
   },
   "file_extension": ".py",
   "mimetype": "text/x-python",
   "name": "python",
   "nbconvert_exporter": "python",
   "pygments_lexer": "ipython3",
   "version": "3.12.3"
  }
 },
 "nbformat": 4,
 "nbformat_minor": 5
}
