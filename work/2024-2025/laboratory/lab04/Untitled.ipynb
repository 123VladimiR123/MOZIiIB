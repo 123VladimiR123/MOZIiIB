{
 "cells": [
  {
   "cell_type": "markdown",
   "id": "b4ca3330-5a92-456d-b0c1-b2b952533dd5",
   "metadata": {},
   "source": [
    "1. Алгоритм Еквклида"
   ]
  },
  {
   "cell_type": "code",
   "execution_count": 6,
   "id": "b8b16ac3-8faf-48c4-befd-4c5cc2342e93",
   "metadata": {},
   "outputs": [
    {
     "name": "stdout",
     "output_type": "stream",
     "text": [
      "Введите а\n"
     ]
    },
    {
     "name": "stdin",
     "output_type": "stream",
     "text": [
      "stdin>  121\n"
     ]
    },
    {
     "name": "stdout",
     "output_type": "stream",
     "text": [
      "Введите b\n"
     ]
    },
    {
     "name": "stdin",
     "output_type": "stream",
     "text": [
      "stdin>  66\n"
     ]
    },
    {
     "name": "stdout",
     "output_type": "stream",
     "text": [
      "НОД чисел равен 11\n"
     ]
    }
   ],
   "source": [
    "println(\"Введите а\");\n",
    "a = parse(Int, chomp(readline()));\n",
    "println(\"Введите b\");\n",
    "b = parse(Int, chomp(readline()));\n",
    "\n",
    "ri_1 = a; ri = b; i = 1;\n",
    "\n",
    "while (true) \n",
    "    riplus1 = ri_1 % ri;\n",
    "    if (riplus1 == 0)\n",
    "        break;\n",
    "    end;\n",
    "    ri_1 = ri;\n",
    "    ri = riplus1;\n",
    "end;\n",
    "\n",
    "print(\"НОД чисел равен \");\n",
    "println(ri);"
   ]
  },
  {
   "cell_type": "markdown",
   "id": "adf4094b-b96b-431a-bb1f-53e528ae6416",
   "metadata": {},
   "source": [
    "2. Бинарный алгоритм Евклида"
   ]
  },
  {
   "cell_type": "code",
   "execution_count": 11,
   "id": "ad2a448f-0715-47e0-982a-60c62bb8200e",
   "metadata": {},
   "outputs": [
    {
     "name": "stdout",
     "output_type": "stream",
     "text": [
      "Введите а\n"
     ]
    },
    {
     "name": "stdin",
     "output_type": "stream",
     "text": [
      "stdin>  9\n"
     ]
    },
    {
     "name": "stdout",
     "output_type": "stream",
     "text": [
      "Введите b\n"
     ]
    },
    {
     "name": "stdin",
     "output_type": "stream",
     "text": [
      "stdin>  17\n"
     ]
    },
    {
     "name": "stdout",
     "output_type": "stream",
     "text": [
      "НОД чисел равен 1\n"
     ]
    }
   ],
   "source": [
    "println(\"Введите а\");\n",
    "a = parse(Int, chomp(readline()));\n",
    "println(\"Введите b\");\n",
    "b = parse(Int, chomp(readline()));\n",
    "\n",
    "g = 1;\n",
    "\n",
    "while ((a % 2 == 0) && (b % 2 == 0))\n",
    "    a /= 2;\n",
    "    b /= 2;\n",
    "    g *= 2;\n",
    "end;\n",
    "\n",
    "u = a;\n",
    "v = b;\n",
    "\n",
    "while (u % 2 == 0)\n",
    "    u /= 2;\n",
    "end;\n",
    "\n",
    "while (v % 2 == 0)\n",
    "    v /= 2;\n",
    "end;\n",
    "\n",
    "while (u != 0)\n",
    "    if (u >= v)\n",
    "        u = u - v;\n",
    "    else\n",
    "        v = v - u;\n",
    "    end;\n",
    "end;\n",
    "\n",
    "print(\"НОД чисел равен \");\n",
    "println(g * v);"
   ]
  },
  {
   "cell_type": "markdown",
   "id": "5d57f2cc-722d-448e-8b03-ceca8f572753",
   "metadata": {},
   "source": [
    "3. Расширенный алгоритм Евклида\n"
   ]
  },
  {
   "cell_type": "code",
   "execution_count": 14,
   "id": "29702586-ef8d-44bb-9d71-d02a9aae411b",
   "metadata": {},
   "outputs": [
    {
     "name": "stdout",
     "output_type": "stream",
     "text": [
      "Введите а\n"
     ]
    },
    {
     "name": "stdin",
     "output_type": "stream",
     "text": [
      "stdin>  64\n"
     ]
    },
    {
     "name": "stdout",
     "output_type": "stream",
     "text": [
      "Введите b\n"
     ]
    },
    {
     "name": "stdin",
     "output_type": "stream",
     "text": [
      "stdin>  56\n"
     ]
    },
    {
     "name": "stdout",
     "output_type": "stream",
     "text": [
      "НОД чисел равен 8\n",
      "X равен 1.0\n",
      "Y равен -1.0\n"
     ]
    }
   ],
   "source": [
    "println(\"Введите а\");\n",
    "a = parse(Int, chomp(readline()));\n",
    "println(\"Введите b\");\n",
    "b = parse(Int, chomp(readline()));\n",
    "\n",
    "ri_1 = a; ri = b; i = 1;\n",
    "xi_1 = 1; xi = 0;\n",
    "yi_1 = 0; yi = 1;\n",
    "\n",
    "while (true) \n",
    "    riplus1 = ri_1 % ri;\n",
    "    q = (ri_1 - riplus1) / ri;\n",
    "    xiplus1 = xi_1 - q * xi;\n",
    "    yiplus1 = yi_1 - q * yi;\n",
    "    if (riplus1 == 0)\n",
    "        break;\n",
    "    end;\n",
    "    ri_1 = ri;\n",
    "    ri = riplus1;\n",
    "    xi_1 = xi;\n",
    "    xi = xiplus1;\n",
    "    yi_1 = yi;\n",
    "    yi = yiplus1;\n",
    "    \n",
    "end;\n",
    "\n",
    "print(\"НОД чисел равен \");\n",
    "println(ri);\n",
    "print(\"X равен \");\n",
    "println(xi);\n",
    "print(\"Y равен \");\n",
    "println(yi);"
   ]
  },
  {
   "cell_type": "markdown",
   "id": "a4fcc3f5-3aa0-4656-a574-4c5db7ded44b",
   "metadata": {},
   "source": [
    "4. Расширенный бинарный алгоритм Евклида"
   ]
  },
  {
   "cell_type": "code",
   "execution_count": 19,
   "id": "a770bd93-322b-4a81-acf0-c4bd1e5fbb59",
   "metadata": {},
   "outputs": [
    {
     "name": "stdout",
     "output_type": "stream",
     "text": [
      "Введите а\n"
     ]
    },
    {
     "name": "stdin",
     "output_type": "stream",
     "text": [
      "stdin>  121\n"
     ]
    },
    {
     "name": "stdout",
     "output_type": "stream",
     "text": [
      "Введите b\n"
     ]
    },
    {
     "name": "stdin",
     "output_type": "stream",
     "text": [
      "stdin>  66\n"
     ]
    },
    {
     "name": "stdout",
     "output_type": "stream",
     "text": [
      "НОД чисел равен 33.0\n",
      "X равен 33.0\n",
      "Y равен -60.0\n"
     ]
    }
   ],
   "source": [
    "println(\"Введите а\");\n",
    "a = parse(Int, chomp(readline()));\n",
    "println(\"Введите b\");\n",
    "b = parse(Int, chomp(readline()));\n",
    "\n",
    "g = 1;\n",
    "\n",
    "while ((a % 2 == 0) && (b % 2 == 0))\n",
    "    a /= 2;\n",
    "    b /= 2;\n",
    "    g *= 2;\n",
    "end;\n",
    "\n",
    "\n",
    "u = a; v = b;\n",
    "As = 1; Bs = 0; C = 0; D = 1;\n",
    "\n",
    "while (u % 2 == 0)\n",
    "    u /= 2;\n",
    "    if ((As % 2 == 0) && (Bs % 2 == 0))\n",
    "        As /= 2;\n",
    "        Bs /= 2;\n",
    "    else\n",
    "        As += b; As /= 2;\n",
    "        Bs -= a; Bs /= 2;\n",
    "    end;\n",
    "end;\n",
    "\n",
    "while (v % 2 == 0)\n",
    "    v /= 2;\n",
    "    if ((C % 2 == 0) && (D % 2 == 0))\n",
    "        C /= 2;\n",
    "        D /= 2;\n",
    "    else\n",
    "        C += b; C /= 2;\n",
    "        D -= a; D /= 2;\n",
    "    end;\n",
    "end;\n",
    "\n",
    "if (u >= v) \n",
    "    u =- v;\n",
    "    As -= C;\n",
    "    Bs -= D;\n",
    "else\n",
    "    v -= u;\n",
    "    C -= As;\n",
    "    D -= Bs;\n",
    "end;\n",
    "\n",
    "print(\"НОД чисел равен \");\n",
    "println(g * v);\n",
    "print(\"X равен \");\n",
    "println(C);\n",
    "print(\"Y равен \");\n",
    "println(D);"
   ]
  },
  {
   "cell_type": "code",
   "execution_count": null,
   "id": "e4d16c12-95a7-487a-9762-753677c869e8",
   "metadata": {},
   "outputs": [],
   "source": []
  }
 ],
 "metadata": {
  "kernelspec": {
   "display_name": "Julia 1.10.5",
   "language": "julia",
   "name": "julia-1.10"
  },
  "language_info": {
   "file_extension": ".jl",
   "mimetype": "application/julia",
   "name": "julia",
   "version": "1.10.5"
  }
 },
 "nbformat": 4,
 "nbformat_minor": 5
}
