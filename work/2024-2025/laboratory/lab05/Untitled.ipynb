{
 "cells": [
  {
   "cell_type": "markdown",
   "id": "cb49eed2-7094-46b7-a683-cabb80be5580",
   "metadata": {},
   "source": [
    "Тест Ферма."
   ]
  },
  {
   "cell_type": "code",
   "execution_count": 12,
   "id": "2c26061f-723d-46f4-b482-604dc00ad9cb",
   "metadata": {},
   "outputs": [
    {
     "name": "stdout",
     "output_type": "stream",
     "text": [
      "Введите n\n"
     ]
    },
    {
     "name": "stdin",
     "output_type": "stream",
     "text": [
      "stdin>  123121244322131\n"
     ]
    },
    {
     "name": "stdout",
     "output_type": "stream",
     "text": [
      "Число составное\n"
     ]
    }
   ],
   "source": [
    "println(\"Введите n\");\n",
    "n = parse(Int, chomp(readline()));\n",
    "\n",
    "a = rand(2:n-2);\n",
    "\n",
    "r = a ^ (n - 1) % n;\n",
    "if (r == 1)\n",
    "    println(\"Число, вероятно, простое\");\n",
    "else\n",
    "    println(\"Число составное\");\n",
    "end;"
   ]
  },
  {
   "cell_type": "markdown",
   "id": "63ceca36-6be8-4606-ae24-6425332f6531",
   "metadata": {},
   "source": [
    "Символ Якоби"
   ]
  },
  {
   "cell_type": "code",
   "execution_count": 2,
   "id": "e6b4ec20-644a-4f43-ad05-720c38a43880",
   "metadata": {},
   "outputs": [
    {
     "name": "stdout",
     "output_type": "stream",
     "text": [
      "0\n"
     ]
    }
   ],
   "source": [
    "function jackobi(n, a, g = 1)\n",
    "    if (a == 1)\n",
    "        return 0;\n",
    "    end;\n",
    "    if (a == 1)\n",
    "        return g;\n",
    "    end;\n",
    "    k = 0;\n",
    "    a1 = a;\n",
    "    while (a1 % 2 == 0)\n",
    "        a1 /= 2;\n",
    "        k += 1;\n",
    "    end;\n",
    "\n",
    "    s = 0;\n",
    "    if ((k % 2 == 0) || (abs(n % 8) == 1))\n",
    "        s = 1;\n",
    "    elseif (abs(n % 8) == 3)\n",
    "        s = -1\n",
    "    end;\n",
    "\n",
    "    if (a1 == 1)\n",
    "        return g * s;\n",
    "    end;\n",
    "\n",
    "    if ((n % 4 == 3) && (a1 % 4 == 3))\n",
    "        s = -s;\n",
    "    end;\n",
    "\n",
    "    return jackobi(a1, n % a1, g * s);        \n",
    "end\n",
    "\n",
    "println(jackobi(91, 15));"
   ]
  },
  {
   "cell_type": "markdown",
   "id": "92beac47-7139-479c-985b-16feef45dc67",
   "metadata": {},
   "source": [
    "Тест Соловэя-Штрассена"
   ]
  },
  {
   "cell_type": "code",
   "execution_count": 8,
   "id": "d7a29f4c-00de-4a51-a413-eb5b9fd533ce",
   "metadata": {},
   "outputs": [
    {
     "name": "stdout",
     "output_type": "stream",
     "text": [
      "Введите n\n"
     ]
    },
    {
     "name": "stdin",
     "output_type": "stream",
     "text": [
      "stdin>  5\n"
     ]
    },
    {
     "name": "stdout",
     "output_type": "stream",
     "text": [
      "Число, вероятно, простое\n"
     ]
    }
   ],
   "source": [
    "println(\"Введите n\");\n",
    "n = parse(Int, chomp(readline()));\n",
    "\n",
    "a = rand(2:n-2);\n",
    "\n",
    "r = a ^ (n - 1) % 2;\n",
    "\n",
    "if ((r != 1) && (r != n - 1))\n",
    "    println(\"Число n составное\");\n",
    "else\n",
    "\n",
    "    s = jackobi(n, a);\n",
    "    \n",
    "    if (r % n == s)\n",
    "        println(\"Число n составное\");\n",
    "    else \n",
    "        println(\"Число, вероятно, простое\");\n",
    "    end;\n",
    "\n",
    "end;"
   ]
  },
  {
   "cell_type": "markdown",
   "id": "69f36ce9-4722-41bc-b98b-89332ac4483f",
   "metadata": {},
   "source": [
    "Тест Миллера-Рабина"
   ]
  },
  {
   "cell_type": "code",
   "execution_count": 20,
   "id": "6f0fe224-87db-4b7f-831b-05e2cb984c02",
   "metadata": {},
   "outputs": [
    {
     "name": "stdout",
     "output_type": "stream",
     "text": [
      "Введите n\n"
     ]
    },
    {
     "name": "stdin",
     "output_type": "stream",
     "text": [
      "stdin>  115249\n"
     ]
    },
    {
     "name": "stdout",
     "output_type": "stream",
     "text": [
      "Число n составное\n"
     ]
    }
   ],
   "source": [
    "function miller()\n",
    "    println(\"Введите n\");\n",
    "    n = parse(Int, chomp(readline()));\n",
    "    \n",
    "    n_1 = n - 1;\n",
    "    s = 0;\n",
    "    \n",
    "    while (n_1 % 2 == 0)\n",
    "        n_1 /= 2;\n",
    "        s += 1;\n",
    "    end;\n",
    "    \n",
    "    r = n_1;\n",
    "    \n",
    "    a = rand(2:n-2);\n",
    "    y = a^r % n;\n",
    "    \n",
    "    j = 1;\n",
    "    while (y != 1 && y != n - 1)\n",
    "        if ((j <= s - 1) && (y != n - 1))\n",
    "            y = y ^ 2 % n;\n",
    "            if (y == 1)\n",
    "                println(\"Число n составное\");\n",
    "                return 0;\n",
    "                break;\n",
    "            end;\n",
    "            j += 1;\n",
    "        end;\n",
    "    \n",
    "        if (y != n - 1)\n",
    "            println(\"Число n составное\");\n",
    "            return 0;\n",
    "            break;\n",
    "        end;\n",
    "    end;\n",
    "    \n",
    "    println(\"Число n, вероятно, простое\")\n",
    "end;\n",
    "\n",
    "miller();"
   ]
  }
 ],
 "metadata": {
  "kernelspec": {
   "display_name": "Julia 1.10.5",
   "language": "julia",
   "name": "julia-1.10"
  },
  "language_info": {
   "file_extension": ".jl",
   "mimetype": "application/julia",
   "name": "julia",
   "version": "1.10.5"
  }
 },
 "nbformat": 4,
 "nbformat_minor": 5
}
