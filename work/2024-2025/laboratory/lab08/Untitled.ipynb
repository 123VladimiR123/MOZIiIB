{
 "cells": [
  {
   "cell_type": "markdown",
   "id": "c1f9ec47",
   "metadata": {},
   "source": [
    "<h3>Сложение неотрицательных целых чисел</h3>"
   ]
  },
  {
   "cell_type": "code",
   "execution_count": 17,
   "id": "941b9b80",
   "metadata": {},
   "outputs": [
    {
     "name": "stdout",
     "output_type": "stream",
     "text": [
      "19648422462462464262\n"
     ]
    }
   ],
   "source": [
    "def add(u = \"\", w = \"\", b = 10):\n",
    "    k = 0\n",
    "    ans = \"\"\n",
    "    \n",
    "    for i in range(len(u))[::-1]:\n",
    "        ans = chr((ord(u[i]) + ord(w[i]) - 2 * ord('0') + k) % b + ord('0')) + ans\n",
    "        k = int((ord(u[i]) + ord(w[i]) - 2 * ord('0') + k) / b)\n",
    "        \n",
    "    if (k > 0):\n",
    "        ans = '1' + ans\n",
    "    print(ans)\n",
    "    \n",
    "add(\"9824211231231232131\", \"9824211231231232131\")"
   ]
  },
  {
   "cell_type": "code",
   "execution_count": 16,
   "id": "5b1ccd10",
   "metadata": {},
   "outputs": [
    {
     "name": "stdout",
     "output_type": "stream",
     "text": [
      "0000000000000000000\n"
     ]
    }
   ],
   "source": [
    "def sub(u = \"\", w = \"\", b = 10):\n",
    "    k = 0\n",
    "    ans = \"\"\n",
    "    \n",
    "    for i in range(len(u))[::-1]:\n",
    "        ans = chr(abs(ord(u[i]) - ord(w[i]) + k) % b + ord('0')) + ans\n",
    "        k = int((ord(u[i]) - ord(w[i]) + k) / b)\n",
    "        \n",
    "    print(ans)\n",
    "    \n",
    "sub(\"9824211231231232131\", \"9824211231231232131\")"
   ]
  },
  {
   "cell_type": "code",
   "execution_count": 23,
   "id": "b6b2101e",
   "metadata": {},
   "outputs": [
    {
     "name": "stdout",
     "output_type": "stream",
     "text": [
      "86718868603418472382201030409020503010\n"
     ]
    }
   ],
   "source": [
    "ZERO = ord('0')\n",
    "\n",
    "def mul(u = \"\", v = \"\", b = 10):\n",
    "    k = 0\n",
    "    ans = [0] * (len(u) + len(v))\n",
    "    \n",
    "    for j in range(len(v))[::-1]:\n",
    "        if (v[j] == 0):\n",
    "            ans[j] = 0\n",
    "        else:\n",
    "            k = 0\n",
    "            for i in range(len(u))[::-1]:\n",
    "                t = (ord(v[j]) - ZERO) * (ord(u[i]) - ZERO) -  + ans[i + j] + k\n",
    "                ans[i + j] = t % b\n",
    "                k = int(t / b)\n",
    "            ans[j] = k            \n",
    "            \n",
    "    print(''.join(str(x) for x in ans))\n",
    "    \n",
    "mul(\"9824211231231232131\", \"9824211231231232131\")"
   ]
  },
  {
   "cell_type": "code",
   "execution_count": 25,
   "id": "abebf5fc",
   "metadata": {},
   "outputs": [
    {
     "name": "stdout",
     "output_type": "stream",
     "text": [
      "00626336936936963937462633693693696393\n"
     ]
    }
   ],
   "source": [
    "def mulf(u = \"\", v = \"\", b = 10):\n",
    "    t = 0\n",
    "    ans = [0] * (len(u) + len(v))\n",
    "\n",
    "    for s in range(len(ans) - 1):\n",
    "        for i in range(s):\n",
    "            t = (ord(u[len(u) - 1 - i]) - ord('0')) * (ord(v[len(v) - 1 - s + i]) - ord('0'))\n",
    "            ans[len(v) + len(u) - s] = t % b\n",
    "            t = int(t / b)\n",
    "            \n",
    "    print(''.join(str(x) for x in ans))\n",
    "    \n",
    "mulf(\"9824211231231232131\", \"9824211231231232131\")"
   ]
  },
  {
   "cell_type": "code",
   "execution_count": 31,
   "id": "e2318aa3",
   "metadata": {},
   "outputs": [
    {
     "ename": "MemoryError",
     "evalue": "",
     "output_type": "error",
     "traceback": [
      "\u001b[0;31m---------------------------------------------------------------------------\u001b[0m",
      "\u001b[0;31mMemoryError\u001b[0m                               Traceback (most recent call last)",
      "Cell \u001b[0;32mIn[31], line 29\u001b[0m\n\u001b[1;32m     26\u001b[0m     \u001b[38;5;28mprint\u001b[39m(\u001b[38;5;124m'\u001b[39m\u001b[38;5;130;01m\\n\u001b[39;00m\u001b[38;5;124m'\u001b[39m \u001b[38;5;241m+\u001b[39m \u001b[38;5;124m'\u001b[39m\u001b[38;5;124m'\u001b[39m\u001b[38;5;241m.\u001b[39mjoin(\u001b[38;5;28mstr\u001b[39m(x) \u001b[38;5;28;01mfor\u001b[39;00m x \u001b[38;5;129;01min\u001b[39;00m ans))\n\u001b[1;32m     27\u001b[0m     \u001b[38;5;28mprint\u001b[39m(\u001b[38;5;124m'\u001b[39m\u001b[38;5;130;01m\\n\u001b[39;00m\u001b[38;5;124m'\u001b[39m \u001b[38;5;241m+\u001b[39m \u001b[38;5;124m'\u001b[39m\u001b[38;5;124m'\u001b[39m\u001b[38;5;241m.\u001b[39mjoin(\u001b[38;5;28mstr\u001b[39m(x) \u001b[38;5;28;01mfor\u001b[39;00m x \u001b[38;5;129;01min\u001b[39;00m r))\n\u001b[0;32m---> 29\u001b[0m \u001b[43mdiv\u001b[49m\u001b[43m(\u001b[49m\u001b[38;5;124;43m\"\u001b[39;49m\u001b[38;5;124;43m9824125675631232131\u001b[39;49m\u001b[38;5;124;43m\"\u001b[39;49m\u001b[43m,\u001b[49m\u001b[43m \u001b[49m\u001b[38;5;124;43m\"\u001b[39;49m\u001b[38;5;124;43m24142\u001b[39;49m\u001b[38;5;124;43m\"\u001b[39;49m\u001b[43m,\u001b[49m\u001b[43m \u001b[49m\u001b[38;5;241;43m10\u001b[39;49m\u001b[43m)\u001b[49m\n",
      "Cell \u001b[0;32mIn[31], line 8\u001b[0m, in \u001b[0;36mdiv\u001b[0;34m(u, v, b)\u001b[0m\n\u001b[1;32m      5\u001b[0m q \u001b[38;5;241m=\u001b[39m [\u001b[38;5;241m0\u001b[39m] \u001b[38;5;241m*\u001b[39m (\u001b[38;5;28mlen\u001b[39m(u) \u001b[38;5;241m-\u001b[39m \u001b[38;5;28mlen\u001b[39m(v))\n\u001b[1;32m      6\u001b[0m r \u001b[38;5;241m=\u001b[39m [\u001b[38;5;241m0\u001b[39m] \u001b[38;5;241m*\u001b[39m \u001b[38;5;28mlen\u001b[39m(v)\n\u001b[0;32m----> 8\u001b[0m \u001b[38;5;28;01mwhile\u001b[39;00m(u \u001b[38;5;241m>\u001b[39m\u001b[38;5;241m=\u001b[39m \u001b[43mv\u001b[49m\u001b[43m \u001b[49m\u001b[38;5;241;43m*\u001b[39;49m\u001b[43m \u001b[49m\u001b[43mb\u001b[49m\u001b[43m \u001b[49m\u001b[38;5;241;43m*\u001b[39;49m\u001b[38;5;241;43m*\u001b[39;49m\u001b[43m \u001b[49m\u001b[43m(\u001b[49m\u001b[38;5;28;43mlen\u001b[39;49m\u001b[43m(\u001b[49m\u001b[43mu\u001b[49m\u001b[43m)\u001b[49m\u001b[43m \u001b[49m\u001b[38;5;241;43m-\u001b[39;49m\u001b[43m \u001b[49m\u001b[38;5;28;43mlen\u001b[39;49m\u001b[43m(\u001b[49m\u001b[43mv\u001b[49m\u001b[43m)\u001b[49m\u001b[43m)\u001b[49m):\n\u001b[1;32m      9\u001b[0m     \u001b[38;5;28;01mfor\u001b[39;00m i \u001b[38;5;129;01min\u001b[39;00m \u001b[38;5;28mrange\u001b[39m(\u001b[38;5;28mlen\u001b[39m(v) \u001b[38;5;241m+\u001b[39m \u001b[38;5;241m1\u001b[39m, \u001b[38;5;28mlen\u001b[39m(u) \u001b[38;5;241m+\u001b[39m \u001b[38;5;241m1\u001b[39m)[::\u001b[38;5;241m-\u001b[39m\u001b[38;5;241m1\u001b[39m]:\n\u001b[1;32m     10\u001b[0m         \u001b[38;5;28;01mif\u001b[39;00m (u[i] \u001b[38;5;241m>\u001b[39m v[\u001b[38;5;241m0\u001b[39m]):\n",
      "\u001b[0;31mMemoryError\u001b[0m: "
     ]
    }
   ],
   "source": [
    "ZERO = ord('0')\n",
    "\n",
    "def div(u = \"\", v = \"\", b = 10):\n",
    "    t = 0\n",
    "    q = [0] * (len(u) - len(v))\n",
    "    r = [0] * len(v)\n",
    "    \n",
    "    while(u >= v * b ** (len(u) - len(v))):\n",
    "        for i in range(len(v) + 1, len(u) + 1)[::-1]:\n",
    "            if (u[i] > v[0]):\n",
    "                q[i - len(v) - 1] = b - 1\n",
    "            else:\n",
    "                q[i - len(v) - 1] = int((u[i] * b + u[i - 1]) / v[0])\n",
    "                \n",
    "            while(q[i - len(v) - 1] * (v[0]*b + v[1]) > u[i] * b**2 + u[i - 1] * b + u[i - 2]):\n",
    "                --q[i - len(v) - 1]\n",
    "                \n",
    "            u = u - q[i - len(v) - 1] * b ** (i - len(v) - 1) * v\n",
    "            \n",
    "            if (u < 0):\n",
    "                u = u + v * b**(i - len(v) - 1)\n",
    "                --q[i - len(v) - 1]\n",
    "                \n",
    "    r = u\n",
    "            \n",
    "    print('\\n' + ''.join(str(x) for x in ans))\n",
    "    print('\\n' + ''.join(str(x) for x in r))\n",
    "    \n",
    "div(\"9824125675631232131\", \"24142\", 10)"
   ]
  },
  {
   "cell_type": "markdown",
   "id": "0b8f3e9e",
   "metadata": {},
   "source": [
    "Ну что ж, не особо оптимально при наличии утечки..."
   ]
  }
 ],
 "metadata": {
  "kernelspec": {
   "display_name": "Python 3 (ipykernel)",
   "language": "python",
   "name": "python3"
  },
  "language_info": {
   "codemirror_mode": {
    "name": "ipython",
    "version": 3
   },
   "file_extension": ".py",
   "mimetype": "text/x-python",
   "name": "python",
   "nbconvert_exporter": "python",
   "pygments_lexer": "ipython3",
   "version": "3.12.3"
  }
 },
 "nbformat": 4,
 "nbformat_minor": 5
}
