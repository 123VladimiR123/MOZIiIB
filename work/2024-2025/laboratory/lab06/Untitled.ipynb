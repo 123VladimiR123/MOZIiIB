{
 "cells": [
  {
   "cell_type": "code",
   "execution_count": 9,
   "id": "ea7f3e69-447a-409a-a258-743dd1a02253",
   "metadata": {},
   "outputs": [
    {
     "name": "stdout",
     "output_type": "stream",
     "text": [
      "24\n"
     ]
    }
   ],
   "source": [
    "function euklid(a, b)\n",
    "    if (a == 0)\n",
    "        return 1;\n",
    "    end;\n",
    "    ri_1 = a; ri = b; i = 1;\n",
    "    while (true) \n",
    "        riplus1 = ri_1 % ri;\n",
    "        if (riplus1 == 0)\n",
    "            break;\n",
    "        end;\n",
    "        ri_1 = ri;\n",
    "        ri = riplus1;\n",
    "    end;\n",
    "    return ri;\n",
    "end;\n",
    "\n",
    "function pollard(n, c, func)\n",
    "    a = c;\n",
    "    b = c;\n",
    "    while(true)\n",
    "        a = func(a) % n;\n",
    "        b = func(func(b) % n) % n;\n",
    "        d = euklid(a - b, n);\n",
    "        if (1 < d && d < n)\n",
    "            return d;\n",
    "        end;\n",
    "        if (d == n)\n",
    "            println(\"Делитель не найден\");\n",
    "            return -1;\n",
    "        end;\n",
    "    end;\n",
    "end;\n",
    "\n",
    "n = 81927837912;\n",
    "c = 1;\n",
    "func = x -> x^2 + 5;\n",
    "\n",
    "println(pollard(n, c, func));"
   ]
  },
  {
   "cell_type": "code",
   "execution_count": null,
   "id": "ca7ad908-451f-458a-8006-70ebf10281be",
   "metadata": {},
   "outputs": [],
   "source": []
  }
 ],
 "metadata": {
  "kernelspec": {
   "display_name": "Julia 1.10.5",
   "language": "julia",
   "name": "julia-1.10"
  },
  "language_info": {
   "file_extension": ".jl",
   "mimetype": "application/julia",
   "name": "julia",
   "version": "1.10.5"
  }
 },
 "nbformat": 4,
 "nbformat_minor": 5
}
